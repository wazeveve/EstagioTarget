{
  "nbformat": 4,
  "nbformat_minor": 0,
  "metadata": {
    "colab": {
      "provenance": []
    },
    "kernelspec": {
      "name": "python3",
      "display_name": "Python 3"
    },
    "language_info": {
      "name": "python"
    }
  },
  "cells": [
    {
      "cell_type": "markdown",
      "source": [
        "#Verifica String\n",
        "Escreva um programa que verifique, em uma string, a existência da letra ‘a’, seja maiúscula ou minúscula, além de informar a quantidade de vezes em que ela ocorre"
      ],
      "metadata": {
        "id": "pPEo2FsxVE35"
      }
    },
    {
      "cell_type": "code",
      "execution_count": 1,
      "metadata": {
        "colab": {
          "base_uri": "https://localhost:8080/"
        },
        "id": "SezhHFA7U2FU",
        "outputId": "14d4ae3d-ccd3-4fbe-fb5e-9bc8ada38029"
      },
      "outputs": [
        {
          "output_type": "stream",
          "name": "stdout",
          "text": [
            "Digite aqui a stringBeleza\n",
            "A Letra \"a\" aparece 1 vezes na String\n"
          ]
        }
      ],
      "source": [
        "string = input('Digite aqui a string')\n",
        "\n",
        "qtdA = string.lower().count('a')\n",
        "\n",
        "if qtdA > 0:\n",
        "  print(f'A Letra \"a\" aparece {qtdA} vezes na String')\n",
        "else:\n",
        "  print('A String nao possui letras \"a\"')"
      ]
    },
    {
      "cell_type": "markdown",
      "source": [
        "Neste código criamos uma variável String para recebermos o texto, e passamos todas as letras para minúsculas para facilitar na análise e assim com a função `.count('a')` fizemos a contagem da quantidade de letras A na string\n",
        "\n",
        "\n",
        "\n"
      ],
      "metadata": {
        "id": "f5PY_ReoVm_9"
      }
    }
  ]
}