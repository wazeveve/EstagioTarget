{
  "nbformat": 4,
  "nbformat_minor": 0,
  "metadata": {
    "colab": {
      "provenance": []
    },
    "kernelspec": {
      "name": "python3",
      "display_name": "Python 3"
    },
    "language_info": {
      "name": "python"
    }
  },
  "cells": [
    {
      "cell_type": "markdown",
      "source": [
        "# Fibonacci\n",
        "Dado a sequência de Fibonacci, onde se inicia por 0 e 1 e o próximo valor sempre será a soma dos 2 valores anteriores (exemplo: 0, 1, 1, 2, 3, 5, 8, 13, 21, 34...), escreva um programa na linguagem que desejar onde, informado um número, ele calcule a sequência de Fibonacci e retorne uma mensagem avisando se o número informado pertence ou não a sequência. <br>\n",
        "Criando a sequencia de fibonacci e logo em seguida, lendo um numero e verificando se faz parte da sequência ou nao."
      ],
      "metadata": {
        "id": "_ELsGVYXSVuB"
      }
    },
    {
      "cell_type": "code",
      "execution_count": 1,
      "metadata": {
        "colab": {
          "base_uri": "https://localhost:8080/"
        },
        "id": "1Cy3U7fnSJEl",
        "outputId": "dba60066-c745-4bee-adfa-ab2c503794f0"
      },
      "outputs": [
        {
          "output_type": "stream",
          "name": "stdout",
          "text": [
            "[0, 1, 1, 2, 3, 5, 8, 13, 21, 34]\n"
          ]
        }
      ],
      "source": [
        "def fibonacci(n):\n",
        "  sequence = [0,1]\n",
        "  while len(sequence) < n:\n",
        "    prox = sequence[-1] + sequence[-2]\n",
        "    sequence.append(prox)\n",
        "  return sequence\n",
        "n = 10\n",
        "resultado = fibonacci(n)\n",
        "print(resultado)"
      ]
    },
    {
      "cell_type": "markdown",
      "source": [
        "Aqui podemos ver que geramos a sequência de fibonacci em 10 números, este número pode ser alterado trocando o valor da variável n"
      ],
      "metadata": {
        "id": "82KZO2BSS4AJ"
      }
    },
    {
      "cell_type": "code",
      "source": [
        "x = int(input(\"Digite o valor que deseja verificar: \"))\n",
        "if x in resultado:\n",
        "  print(f'o valor {x} faz parte da sequencia de fibonacci')\n",
        "else:\n",
        "  print(f'o valor {x} não faz parte da sequencia de fibonacci')"
      ],
      "metadata": {
        "colab": {
          "base_uri": "https://localhost:8080/"
        },
        "id": "tJPNZIMrTB8j",
        "outputId": "eb6113b3-c502-4418-8547-775abcb8cc19"
      },
      "execution_count": 10,
      "outputs": [
        {
          "output_type": "stream",
          "name": "stdout",
          "text": [
            "Digite o valor que deseja verificar: 15\n",
            "o valor 15 não faz parte da sequencia de fibonacci\n"
          ]
        }
      ]
    },
    {
      "cell_type": "markdown",
      "source": [
        "Aqui estamos verificando se a variavel recebida faz parte da sequencia, ao acessarmos a variavel resultado e comparar os itens inclusos nela."
      ],
      "metadata": {
        "id": "j1HL3BNdUWIU"
      }
    }
  ]
}